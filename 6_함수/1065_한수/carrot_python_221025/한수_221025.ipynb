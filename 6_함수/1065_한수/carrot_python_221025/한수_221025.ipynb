{
 "cells": [
  {
   "cell_type": "markdown",
   "metadata": {},
   "source": [
    "#### 1065번 한수 (https://www.acmicpc.net/problem/1065)"
   ]
  },
  {
   "cell_type": "code",
   "execution_count": null,
   "metadata": {},
   "outputs": [
    {
     "name": "stdout",
     "output_type": "stream",
     "text": [
      "100\n"
     ]
    }
   ],
   "source": [
    "def hansu(num):\n",
    "    if num <= 99:\n",
    "        hansu = num\n",
    "\n",
    "    elif num <= 110:\n",
    "        hansu = 99\n",
    "\n",
    "    else:\n",
    "        hansu = 99\n",
    "        for n in range(111, num+1) :\n",
    "            n = str(n)\n",
    "            if(int(n[2])-int(n[1]) == int(n[1])-int(n[0])) : #등차수열 확인\n",
    "                hansu+=1\n",
    "\n",
    "    print(hansu)\n",
    "\n",
    "\n",
    "hansu(int(input()))"
   ]
  }
 ],
 "metadata": {
  "kernelspec": {
   "display_name": "Python 3.10.8 64-bit (microsoft store)",
   "language": "python",
   "name": "python3"
  },
  "language_info": {
   "name": "python",
   "version": "3.10.8"
  },
  "orig_nbformat": 4,
  "vscode": {
   "interpreter": {
    "hash": "3b7e9cb8e453d6cda0fe8c8dd13f891a1f09162f0e7c66ffeae7751a7aecf00d"
   }
  }
 },
 "nbformat": 4,
 "nbformat_minor": 2
}
