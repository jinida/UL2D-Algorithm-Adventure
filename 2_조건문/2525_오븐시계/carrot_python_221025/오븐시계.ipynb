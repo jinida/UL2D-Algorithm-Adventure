{
 "cells": [
  {
   "cell_type": "markdown",
   "metadata": {},
   "source": [
    "### 오븐시계\n",
    "(https://www.acmicpc.net/problem/2525)"
   ]
  },
  {
   "cell_type": "code",
   "execution_count": null,
   "metadata": {},
   "outputs": [],
   "source": [
    "a, b = map(int, input().split())\n",
    "c = int(input())\n",
    "\n",
    "if b + c > 59:\n",
    "    if a == 23 and ((b + c)//60) > 0:\n",
    "        a = -1\n",
    "    print(a + ((b + c)//60), (b+c)%60)\n",
    "else:\n",
    "    print(a, b+c)"
   ]
  },
  {
   "cell_type": "code",
   "execution_count": null,
   "metadata": {},
   "outputs": [],
   "source": [
    "A, B = map(int, input().split())\n",
    "C = int(input())\n",
    "\n",
    "hour = (B+C)//60\n",
    "min = (B+C)%60\n",
    "\n",
    "if(B + C >= 60):\n",
    "  if(A+hour >= 24):\n",
    "    A = A - 24\n",
    "  A = A + hour\n",
    "  print(A, min)\n",
    "\n",
    "else:\n",
    "  if(A >= 24):\n",
    "    A = A - 24\n",
    "  print(A, B+C)"
   ]
  }
 ],
 "metadata": {
  "kernelspec": {
   "display_name": "Python 3.10.8 64-bit (microsoft store)",
   "language": "python",
   "name": "python3"
  },
  "language_info": {
   "name": "python",
   "version": "3.10.8"
  },
  "orig_nbformat": 4,
  "vscode": {
   "interpreter": {
    "hash": "3b7e9cb8e453d6cda0fe8c8dd13f891a1f09162f0e7c66ffeae7751a7aecf00d"
   }
  }
 },
 "nbformat": 4,
 "nbformat_minor": 2
}
