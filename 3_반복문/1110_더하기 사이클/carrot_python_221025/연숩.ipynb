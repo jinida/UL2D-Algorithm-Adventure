{
 "cells": [
  {
   "cell_type": "code",
   "execution_count": 36,
   "metadata": {},
   "outputs": [
    {
     "name": "stdout",
     "output_type": "stream",
     "text": [
      "11\n",
      "60\n"
     ]
    }
   ],
   "source": [
    "### 더하기 사이클 (https://www.acmicpc.net/problem/1110)\n",
    "n = input()\n",
    "c = 1\n",
    "\n",
    "if int(n) < 10:\n",
    "        m = str(0+int(n)) \n",
    "else:   \n",
    "    m = str(int(n[0])+int(n[1]))\n",
    "\n",
    "m = n[-1] + m[-1]\n",
    "#print(m)\n",
    "\n",
    "while True:\n",
    "    if n == m or '0' + n == m:\n",
    "        break \n",
    "    else:\n",
    "        a = m[1]\n",
    "        z = str(int(m[0])+int(m[1]))\n",
    "        if len(z) == 2:\n",
    "            m = a + z[1] \n",
    "        else:\n",
    "            m = a + z\n",
    "    c += 1\n",
    "\n",
    "print(c)"
   ]
  }
 ],
 "metadata": {
  "kernelspec": {
   "display_name": "Python 3.10.8 64-bit (microsoft store)",
   "language": "python",
   "name": "python3"
  },
  "language_info": {
   "codemirror_mode": {
    "name": "ipython",
    "version": 3
   },
   "file_extension": ".py",
   "mimetype": "text/x-python",
   "name": "python",
   "nbconvert_exporter": "python",
   "pygments_lexer": "ipython3",
   "version": "3.10.8"
  },
  "orig_nbformat": 4,
  "vscode": {
   "interpreter": {
    "hash": "3b7e9cb8e453d6cda0fe8c8dd13f891a1f09162f0e7c66ffeae7751a7aecf00d"
   }
  }
 },
 "nbformat": 4,
 "nbformat_minor": 2
}
