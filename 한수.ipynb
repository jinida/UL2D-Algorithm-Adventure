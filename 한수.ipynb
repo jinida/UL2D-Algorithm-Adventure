{
 "cells": [
  {
   "cell_type": "code",
   "execution_count": 18,
   "metadata": {},
   "outputs": [
    {
     "name": "stdout",
     "output_type": "stream",
     "text": [
      "101\n"
     ]
    }
   ],
   "source": [
    "num = int(input())\n",
    "hansu = 0\n",
    "\n",
    "for n in range(1, num+1) :\n",
    "    if n <= 99 : # 1부터 99까지는 모두 한수\n",
    "        hansu += 1 \n",
    "    else:\n",
    "        if(n%10-n//10%10 == n//10%10-n//100) : #등차수열 확인\n",
    "            hansu+=1\n",
    "\n",
    "print(hansu)"
   ]
  },
  {
   "cell_type": "code",
   "execution_count": 19,
   "metadata": {},
   "outputs": [
    {
     "name": "stdout",
     "output_type": "stream",
     "text": [
      "101\n"
     ]
    }
   ],
   "source": [
    "num = int(input())\n",
    "hansu = 0\n",
    "\n",
    "for n in range(1, num+1) :\n",
    "    if n <= 99 : # 1부터 99까지는 모두 한수\n",
    "        hansu += 1 \n",
    "    else:\n",
    "        n = str(n)\n",
    "        if(int(n[2])-int(n[1]) == int(n[1])-int(n[0])) : #등차수열 확인\n",
    "            hansu+=1\n",
    "\n",
    "print(hansu)"
   ]
  },
  {
   "cell_type": "code",
   "execution_count": null,
   "metadata": {},
   "outputs": [],
   "source": []
  }
 ],
 "metadata": {
  "kernelspec": {
   "display_name": "Python 3.10.8 64-bit (microsoft store)",
   "language": "python",
   "name": "python3"
  },
  "language_info": {
   "codemirror_mode": {
    "name": "ipython",
    "version": 3
   },
   "file_extension": ".py",
   "mimetype": "text/x-python",
   "name": "python",
   "nbconvert_exporter": "python",
   "pygments_lexer": "ipython3",
   "version": "3.10.8"
  },
  "orig_nbformat": 4,
  "vscode": {
   "interpreter": {
    "hash": "3b7e9cb8e453d6cda0fe8c8dd13f891a1f09162f0e7c66ffeae7751a7aecf00d"
   }
  }
 },
 "nbformat": 4,
 "nbformat_minor": 2
}
